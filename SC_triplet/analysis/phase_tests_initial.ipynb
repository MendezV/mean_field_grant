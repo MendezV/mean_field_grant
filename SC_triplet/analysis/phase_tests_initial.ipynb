{
 "cells": [
  {
   "cell_type": "code",
   "execution_count": 2,
   "metadata": {},
   "outputs": [
    {
     "name": "stdout",
     "output_type": "stream",
     "text": [
      "%pylab is deprecated, use %matplotlib inline and import the required libraries.\n",
      "Populating the interactive namespace from numpy and matplotlib\n"
     ]
    }
   ],
   "source": [
    "%pylab inline\n",
    "\n",
    "pathchow='/home/jfm343/Documents/mean_field_grant/SC_triplet'\n",
    "\n",
    "\n",
    "pathy=pathchow\n",
    "\n",
    "import numpy as np\n",
    "import pandas as pd\n",
    "import os\n",
    "sys.path.insert(0, pathy+'/Mods')\n",
    "import Lattice\n",
    "import Hamiltonian\n",
    "from scipy import linalg as la\n",
    "import seaborn as sns\n",
    "\n",
    "\n",
    "\n",
    "rc('font', **{'family': 'serif', 'serif': ['Computer Modern'],'size'   : 14})\n",
    "rc('text', usetex=True)"
   ]
  },
  {
   "cell_type": "code",
   "execution_count": 3,
   "metadata": {},
   "outputs": [],
   "source": [
    "def getdatadir(fulpath,mode):\n",
    "    data=[]\n",
    "    for pa in fulpath:\n",
    "        if ('data' in pa) and (mode in pa): data.append(pa)\n",
    "    return data"
   ]
  },
  {
   "cell_type": "code",
   "execution_count": 4,
   "metadata": {},
   "outputs": [
    {
     "name": "stdout",
     "output_type": "stream",
     "text": [
      "['musweep_21_4_0', 'musweep_21_4_0.6', 'musweep_21_4_1.4', 'musweep_21_4_1', 'musweep_21_4_1.8', 'musweep_21_4_1.6', 'musweep_21_4_1.2', 'musweep_21_4_0.4', 'musweep_21_4_0.2', 'musweep_21_4_0.8', 'inforun']\n"
     ]
    }
   ],
   "source": [
    "\n",
    "\n",
    "\n",
    "        \n",
    "frames=[]\n",
    "\n",
    "path=pathy+'/data/musweep_21_4_2022-07-14-01-12-24'\n",
    "subpaths=os.listdir(path)\n",
    "print(subpaths)\n",
    "subpaths=list(filter(lambda a: a != 'inforun', subpaths))\n",
    "\n",
    "for i, pat in enumerate(subpaths):\n",
    "    # print(pat)\n",
    "    fulpath=path+'/'+pat\n",
    "    subpaths2=os.listdir(fulpath)\n",
    "    data= getdatadir(subpaths2, '')\n",
    "    fullpath=fulpath+'/'+data[0]\n",
    "    \n",
    "    dff = pd.read_hdf(fullpath)\n",
    "    frames.append(dff)\n",
    "\n",
    "\n",
    "\n",
    "# df=pd.concat(frames).sort_values(['theta', 'nu'])\n",
    "df=pd.concat(frames)\n",
    "\n"
   ]
  },
  {
   "cell_type": "code",
   "execution_count": 5,
   "metadata": {},
   "outputs": [
    {
     "data": {
      "text/html": [
       "<div>\n",
       "<style scoped>\n",
       "    .dataframe tbody tr th:only-of-type {\n",
       "        vertical-align: middle;\n",
       "    }\n",
       "\n",
       "    .dataframe tbody tr th {\n",
       "        vertical-align: top;\n",
       "    }\n",
       "\n",
       "    .dataframe thead th {\n",
       "        text-align: right;\n",
       "    }\n",
       "</style>\n",
       "<table border=\"1\" class=\"dataframe\">\n",
       "  <thead>\n",
       "    <tr style=\"text-align: right;\">\n",
       "      <th></th>\n",
       "      <th>T</th>\n",
       "      <th>mu</th>\n",
       "      <th>J</th>\n",
       "      <th>D</th>\n",
       "      <th>phi</th>\n",
       "      <th>theta</th>\n",
       "      <th>MZ</th>\n",
       "      <th>FSC0</th>\n",
       "      <th>FSC</th>\n",
       "      <th>FAFM0</th>\n",
       "      <th>FAFM</th>\n",
       "    </tr>\n",
       "  </thead>\n",
       "  <tbody>\n",
       "    <tr>\n",
       "      <th>0</th>\n",
       "      <td>0.010000</td>\n",
       "      <td>0.0</td>\n",
       "      <td>4.0</td>\n",
       "      <td>0.133266</td>\n",
       "      <td>0.001340</td>\n",
       "      <td>0.047613</td>\n",
       "      <td>0.000105</td>\n",
       "      <td>-723.093970</td>\n",
       "      <td>-723.093970</td>\n",
       "      <td>-716.404646</td>\n",
       "      <td>-716.404645</td>\n",
       "    </tr>\n",
       "    <tr>\n",
       "      <th>1</th>\n",
       "      <td>0.012857</td>\n",
       "      <td>0.0</td>\n",
       "      <td>4.0</td>\n",
       "      <td>0.133166</td>\n",
       "      <td>0.000414</td>\n",
       "      <td>0.029496</td>\n",
       "      <td>0.000095</td>\n",
       "      <td>-723.093967</td>\n",
       "      <td>-723.093967</td>\n",
       "      <td>-716.456055</td>\n",
       "      <td>-716.456054</td>\n",
       "    </tr>\n",
       "    <tr>\n",
       "      <th>2</th>\n",
       "      <td>0.015714</td>\n",
       "      <td>0.0</td>\n",
       "      <td>4.0</td>\n",
       "      <td>0.133367</td>\n",
       "      <td>0.000857</td>\n",
       "      <td>0.011308</td>\n",
       "      <td>0.000105</td>\n",
       "      <td>-723.093967</td>\n",
       "      <td>-723.093967</td>\n",
       "      <td>-716.526904</td>\n",
       "      <td>-716.526901</td>\n",
       "    </tr>\n",
       "    <tr>\n",
       "      <th>3</th>\n",
       "      <td>0.018571</td>\n",
       "      <td>0.0</td>\n",
       "      <td>4.0</td>\n",
       "      <td>0.133324</td>\n",
       "      <td>0.003809</td>\n",
       "      <td>0.004023</td>\n",
       "      <td>0.000095</td>\n",
       "      <td>-723.094049</td>\n",
       "      <td>-723.094049</td>\n",
       "      <td>-716.619316</td>\n",
       "      <td>-716.619314</td>\n",
       "    </tr>\n",
       "    <tr>\n",
       "      <th>4</th>\n",
       "      <td>0.021429</td>\n",
       "      <td>0.0</td>\n",
       "      <td>4.0</td>\n",
       "      <td>0.133124</td>\n",
       "      <td>0.003198</td>\n",
       "      <td>0.001776</td>\n",
       "      <td>0.000105</td>\n",
       "      <td>-723.094389</td>\n",
       "      <td>-723.094389</td>\n",
       "      <td>-716.735296</td>\n",
       "      <td>-716.735293</td>\n",
       "    </tr>\n",
       "    <tr>\n",
       "      <th>...</th>\n",
       "      <td>...</td>\n",
       "      <td>...</td>\n",
       "      <td>...</td>\n",
       "      <td>...</td>\n",
       "      <td>...</td>\n",
       "      <td>...</td>\n",
       "      <td>...</td>\n",
       "      <td>...</td>\n",
       "      <td>...</td>\n",
       "      <td>...</td>\n",
       "      <td>...</td>\n",
       "    </tr>\n",
       "    <tr>\n",
       "      <th>45</th>\n",
       "      <td>0.138571</td>\n",
       "      <td>0.8</td>\n",
       "      <td>4.0</td>\n",
       "      <td>0.000144</td>\n",
       "      <td>6.916589</td>\n",
       "      <td>3.144572</td>\n",
       "      <td>0.000095</td>\n",
       "      <td>-1407.751446</td>\n",
       "      <td>-1407.751446</td>\n",
       "      <td>-1655.513703</td>\n",
       "      <td>-1655.513689</td>\n",
       "    </tr>\n",
       "    <tr>\n",
       "      <th>46</th>\n",
       "      <td>0.141429</td>\n",
       "      <td>0.8</td>\n",
       "      <td>4.0</td>\n",
       "      <td>0.000056</td>\n",
       "      <td>6.916589</td>\n",
       "      <td>3.019572</td>\n",
       "      <td>0.000105</td>\n",
       "      <td>-1407.780264</td>\n",
       "      <td>-1407.780264</td>\n",
       "      <td>-1656.090613</td>\n",
       "      <td>-1656.090596</td>\n",
       "    </tr>\n",
       "    <tr>\n",
       "      <th>47</th>\n",
       "      <td>0.144286</td>\n",
       "      <td>0.8</td>\n",
       "      <td>4.0</td>\n",
       "      <td>0.000144</td>\n",
       "      <td>6.916589</td>\n",
       "      <td>3.019572</td>\n",
       "      <td>0.000095</td>\n",
       "      <td>-1407.811912</td>\n",
       "      <td>-1407.811912</td>\n",
       "      <td>-1656.680198</td>\n",
       "      <td>-1656.680183</td>\n",
       "    </tr>\n",
       "    <tr>\n",
       "      <th>48</th>\n",
       "      <td>0.147143</td>\n",
       "      <td>0.8</td>\n",
       "      <td>4.0</td>\n",
       "      <td>0.000056</td>\n",
       "      <td>6.916589</td>\n",
       "      <td>3.019572</td>\n",
       "      <td>0.000105</td>\n",
       "      <td>-1407.846634</td>\n",
       "      <td>-1407.846634</td>\n",
       "      <td>-1657.282490</td>\n",
       "      <td>-1657.282473</td>\n",
       "    </tr>\n",
       "    <tr>\n",
       "      <th>49</th>\n",
       "      <td>0.150000</td>\n",
       "      <td>0.8</td>\n",
       "      <td>4.0</td>\n",
       "      <td>0.000144</td>\n",
       "      <td>6.916589</td>\n",
       "      <td>3.019572</td>\n",
       "      <td>0.000095</td>\n",
       "      <td>-1407.884512</td>\n",
       "      <td>-1407.884512</td>\n",
       "      <td>-1657.897522</td>\n",
       "      <td>-1657.897508</td>\n",
       "    </tr>\n",
       "  </tbody>\n",
       "</table>\n",
       "<p>500 rows × 11 columns</p>\n",
       "</div>"
      ],
      "text/plain": [
       "           T   mu    J         D       phi     theta        MZ         FSC0  \\\n",
       "0   0.010000  0.0  4.0  0.133266  0.001340  0.047613  0.000105  -723.093970   \n",
       "1   0.012857  0.0  4.0  0.133166  0.000414  0.029496  0.000095  -723.093967   \n",
       "2   0.015714  0.0  4.0  0.133367  0.000857  0.011308  0.000105  -723.093967   \n",
       "3   0.018571  0.0  4.0  0.133324  0.003809  0.004023  0.000095  -723.094049   \n",
       "4   0.021429  0.0  4.0  0.133124  0.003198  0.001776  0.000105  -723.094389   \n",
       "..       ...  ...  ...       ...       ...       ...       ...          ...   \n",
       "45  0.138571  0.8  4.0  0.000144  6.916589  3.144572  0.000095 -1407.751446   \n",
       "46  0.141429  0.8  4.0  0.000056  6.916589  3.019572  0.000105 -1407.780264   \n",
       "47  0.144286  0.8  4.0  0.000144  6.916589  3.019572  0.000095 -1407.811912   \n",
       "48  0.147143  0.8  4.0  0.000056  6.916589  3.019572  0.000105 -1407.846634   \n",
       "49  0.150000  0.8  4.0  0.000144  6.916589  3.019572  0.000095 -1407.884512   \n",
       "\n",
       "            FSC        FAFM0         FAFM  \n",
       "0   -723.093970  -716.404646  -716.404645  \n",
       "1   -723.093967  -716.456055  -716.456054  \n",
       "2   -723.093967  -716.526904  -716.526901  \n",
       "3   -723.094049  -716.619316  -716.619314  \n",
       "4   -723.094389  -716.735296  -716.735293  \n",
       "..          ...          ...          ...  \n",
       "45 -1407.751446 -1655.513703 -1655.513689  \n",
       "46 -1407.780264 -1656.090613 -1656.090596  \n",
       "47 -1407.811912 -1656.680198 -1656.680183  \n",
       "48 -1407.846634 -1657.282490 -1657.282473  \n",
       "49 -1407.884512 -1657.897522 -1657.897508  \n",
       "\n",
       "[500 rows x 11 columns]"
      ]
     },
     "execution_count": 5,
     "metadata": {},
     "output_type": "execute_result"
    }
   ],
   "source": [
    "df"
   ]
  },
  {
   "cell_type": "markdown",
   "metadata": {},
   "source": [
    "# Scaling of the free energy with system size"
   ]
  },
  {
   "cell_type": "code",
   "execution_count": 6,
   "metadata": {},
   "outputs": [
    {
     "name": "stdout",
     "output_type": "stream",
     "text": [
      "['musweep_61_4_0.8', 'musweep_61_4_0.4', 'musweep_61_4_0.2', 'musweep_61_4_1.4', 'musweep_61_4_1.8', 'musweep_61_4_0.6', 'musweep_61_4_1.6', 'musweep_61_4_1.2', 'musweep_61_4_1', 'musweep_61_4_0', 'inforun']\n"
     ]
    },
    {
     "data": {
      "image/png": "[encoded data removed]",
      "text/plain": [
       "<Figure size 432x288 with 1 Axes>"
      ]
     },
     "metadata": {
      "needs_background": "light"
     },
     "output_type": "display_data"
    }
   ],
   "source": [
    "        \n",
    "frames=[]\n",
    "\n",
    "path=pathy+'/data/musweep_61_4_2022-07-14-01-17-47'\n",
    "subpaths=os.listdir(path)\n",
    "print(subpaths)\n",
    "subpaths=list(filter(lambda a: a != 'inforun', subpaths))\n",
    "\n",
    "for i, pat in enumerate(subpaths):\n",
    "    # print(pat)\n",
    "    fulpath=path+'/'+pat\n",
    "    subpaths2=os.listdir(fulpath)\n",
    "    data= getdatadir(subpaths2, '')\n",
    "    fullpath=fulpath+'/'+data[0]\n",
    "    \n",
    "    dff = pd.read_hdf(fullpath)\n",
    "    frames.append(dff)\n",
    "\n",
    "\n",
    "\n",
    "# df=pd.concat(frames).sort_values(['theta', 'nu'])\n",
    "df=pd.concat(frames)\n",
    "\n",
    "df_one=df.loc[(df['mu'] == 1.0)]\n",
    "def draw_heatmap(*args, **kwargs):\n",
    "    data = kwargs.pop('data')\n",
    "    d1 = np.array(data.loc[:,args[0]])\n",
    "    d2 = np.array(data.loc[:,args[1]])\n",
    "    d3 = np.array(data.loc[:,args[2]])\n",
    "    plt.scatter(d1,(d2-d3)/(61**2))\n",
    "    # plt.plot(d1,d2, c=d3[0])\n",
    "\n",
    "\n",
    "    # plt.tricontourf(kx,ky ,d3,annot=True, **kwargs)\n",
    "\n",
    "\n",
    "# fg = sns.FacetGrid(df_one_temp, col='theta',height=3.5, col_wrap=4)\n",
    "# fg.map_dataframe(draw_heatmap, 'T', 'D', 'J', cbar=False, square = True)\n",
    "# # get figure background color\n",
    "mus=np.arange(0,2,0.2)\n",
    "for mm in mus:\n",
    "    draw_heatmap( 'T', 'FAFM', 'FAFM0', data=df.loc[(df['mu'] == mm)])\n",
    "# draw_heatmap( 'T', 'MZ', 'J', data=df_one)\n",
    "plt.show()"
   ]
  },
  {
   "cell_type": "code",
   "execution_count": 7,
   "metadata": {},
   "outputs": [
    {
     "name": "stdout",
     "output_type": "stream",
     "text": [
      "['musweep_21_4_0', 'musweep_21_4_0.6', 'musweep_21_4_1.4', 'musweep_21_4_1', 'musweep_21_4_1.8', 'musweep_21_4_1.6', 'musweep_21_4_1.2', 'musweep_21_4_0.4', 'musweep_21_4_0.2', 'musweep_21_4_0.8', 'inforun']\n"
     ]
    },
    {
     "data": {
      "image/png": "[encoded data removed]",
      "text/plain": [
       "<Figure size 432x288 with 1 Axes>"
      ]
     },
     "metadata": {
      "needs_background": "light"
     },
     "output_type": "display_data"
    }
   ],
   "source": [
    "        \n",
    "frames=[]\n",
    "\n",
    "path=pathy+'/data/musweep_21_4_2022-07-14-01-12-24'\n",
    "subpaths=os.listdir(path)\n",
    "print(subpaths)\n",
    "subpaths=list(filter(lambda a: a != 'inforun', subpaths))\n",
    "\n",
    "for i, pat in enumerate(subpaths):\n",
    "    # print(pat)\n",
    "    fulpath=path+'/'+pat\n",
    "    subpaths2=os.listdir(fulpath)\n",
    "    data= getdatadir(subpaths2, '')\n",
    "    fullpath=fulpath+'/'+data[0]\n",
    "    \n",
    "    dff = pd.read_hdf(fullpath)\n",
    "    frames.append(dff)\n",
    "\n",
    "\n",
    "\n",
    "# df=pd.concat(frames).sort_values(['theta', 'nu'])\n",
    "df=pd.concat(frames)\n",
    "\n",
    "df_one=df.loc[(df['mu'] == 1.0)]\n",
    "def draw_heatmap(*args, **kwargs):\n",
    "    data = kwargs.pop('data')\n",
    "    d1 = np.array(data.loc[:,args[0]])\n",
    "    d2 = np.array(data.loc[:,args[1]])\n",
    "    d3 = np.array(data.loc[:,args[2]])\n",
    "    plt.scatter(d1,(d2-d3)/(21**2))\n",
    "    # plt.plot(d1,d2, c=d3[0])\n",
    "\n",
    "    # plt.tricontourf(kx,ky ,d3,annot=True, **kwargs)\n",
    "\n",
    "\n",
    "# fg = sns.FacetGrid(df_one_temp, col='theta',height=3.5, col_wrap=4)\n",
    "# fg.map_dataframe(draw_heatmap, 'T', 'D', 'J', cbar=False, square = True)\n",
    "# # get figure background color\n",
    "mus=np.arange(0,2,0.2)\n",
    "for mm in mus:\n",
    "    draw_heatmap( 'T', 'FAFM', 'FAFM0', data=df.loc[(df['mu'] == mm)])\n",
    "# draw_heatmap( 'T', 'MZ', 'J', data=df_one)\n",
    "plt.show()"
   ]
  },
  {
   "cell_type": "code",
   "execution_count": null,
   "metadata": {},
   "outputs": [],
   "source": []
  },
  {
   "cell_type": "markdown",
   "metadata": {},
   "source": [
    "# For J=6"
   ]
  },
  {
   "cell_type": "code",
   "execution_count": 8,
   "metadata": {},
   "outputs": [
    {
     "name": "stdout",
     "output_type": "stream",
     "text": [
      "['musweep_extended_61_6_0.8', 'musweep_extended_61_6_0.2', 'musweep_extended_61_6_1', 'musweep_extended_61_6_1.8', 'musweep_extended_61_6_0.4', 'musweep_extended_61_6_0.6', 'musweep_extended_61_6_0', 'musweep_extended_61_6_1.4', 'musweep_extended_61_6_1.2', 'musweep_extended_61_6_1.6', 'inforun']\n"
     ]
    },
    {
     "data": {
      "image/png": "[encoded data removed]",
      "text/plain": [
       "<Figure size 432x288 with 1 Axes>"
      ]
     },
     "metadata": {
      "needs_background": "light"
     },
     "output_type": "display_data"
    }
   ],
   "source": [
    "\n",
    "\n",
    "        \n",
    "frames=[]\n",
    "\n",
    "path=pathy+'/data/musweep_extended_61_6_2022-07-14-01-30-43'\n",
    "subpaths=os.listdir(path)\n",
    "print(subpaths)\n",
    "subpaths=list(filter(lambda a: a != 'inforun', subpaths))\n",
    "\n",
    "for i, pat in enumerate(subpaths):\n",
    "    # print(pat)\n",
    "    fulpath=path+'/'+pat\n",
    "    subpaths2=os.listdir(fulpath)\n",
    "    data= getdatadir(subpaths2, '')\n",
    "    fullpath=fulpath+'/'+data[0]\n",
    "    \n",
    "    dff = pd.read_hdf(fullpath)\n",
    "    frames.append(dff)\n",
    "\n",
    "\n",
    "\n",
    "# df=pd.concat(frames).sort_values(['theta', 'nu'])\n",
    "df=pd.concat(frames)\n",
    "\n",
    "df_one=df.loc[(df['mu'] == 1.0)]\n",
    "def draw_heatmap(*args, **kwargs):\n",
    "    data = kwargs.pop('data')\n",
    "    d1 = np.array(data.loc[:,args[0]])\n",
    "    d2 = np.array(data.loc[:,args[1]])\n",
    "    d3 = np.array(data.loc[:,args[2]])\n",
    "    plt.scatter(d1,(d2-d3)/(61**2), marker=args[3])\n",
    "    # plt.plot(d1,d2, c=d3[0])\n",
    "\n",
    "\n",
    "    # plt.tricontourf(kx,ky ,d3,annot=True, **kwargs)\n",
    "\n",
    "\n",
    "# fg = sns.FacetGrid(df_one_temp, col='theta',height=3.5, col_wrap=4)\n",
    "# fg.map_dataframe(draw_heatmap, 'T', 'D', 'J', cbar=False, square = True)\n",
    "# # get figure background color\n",
    "mus=np.arange(0,2,0.2)\n",
    "for mm in mus:\n",
    "    draw_heatmap( 'T', 'FAFM', 'FAFM0', '.', data=df.loc[(df['mu'] == mm)])\n",
    "    draw_heatmap( 'T', 'FSC', 'FSC0', 'x', data=df.loc[(df['mu'] == mm)])\n",
    "plt.show()"
   ]
  },
  {
   "cell_type": "code",
   "execution_count": 10,
   "metadata": {},
   "outputs": [
    {
     "name": "stdout",
     "output_type": "stream",
     "text": [
      "['musweep_extended_31_6_0.6', 'musweep_extended_31_6_0', 'musweep_extended_31_6_0.8', 'musweep_extended_31_6_1.8', 'musweep_extended_31_6_1.2', 'musweep_extended_31_6_1.6', 'musweep_extended_31_6_0.2', 'musweep_extended_31_6_1', 'musweep_extended_31_6_0.4', 'musweep_extended_31_6_1.4', 'inforun']\n"
     ]
    },
    {
     "data": {
      "image/png": "[encoded data removed]",
      "text/plain": [
       "<Figure size 432x288 with 1 Axes>"
      ]
     },
     "metadata": {
      "needs_background": "light"
     },
     "output_type": "display_data"
    }
   ],
   "source": [
    "\n",
    "\n",
    "        \n",
    "frames=[]\n",
    "\n",
    "path=pathy+'/data/musweep_extended_31_6_2022-07-14-02-07-10'\n",
    "subpaths=os.listdir(path)\n",
    "print(subpaths)\n",
    "subpaths=list(filter(lambda a: a != 'inforun', subpaths))\n",
    "\n",
    "for i, pat in enumerate(subpaths):\n",
    "    # print(pat)\n",
    "    fulpath=path+'/'+pat\n",
    "    subpaths2=os.listdir(fulpath)\n",
    "    data= getdatadir(subpaths2, '')\n",
    "    fullpath=fulpath+'/'+data[0]\n",
    "    \n",
    "    dff = pd.read_hdf(fullpath)\n",
    "    frames.append(dff)\n",
    "\n",
    "\n",
    "\n",
    "# df=pd.concat(frames).sort_values(['theta', 'nu'])\n",
    "df=pd.concat(frames)\n",
    "\n",
    "df_one=df.loc[(df['mu'] == 1.0)]\n",
    "def draw_heatmap(*args, **kwargs):\n",
    "    data = kwargs.pop('data')\n",
    "    d1 = np.array(data.loc[:,args[0]])\n",
    "    d2 = np.array(data.loc[:,args[1]])\n",
    "    d3 = np.array(data.loc[:,args[2]])\n",
    "    plt.scatter(d1,d2, marker=args[3])\n",
    "    # plt.plot(d1,d2, c=d3[0])\n",
    "\n",
    "\n",
    "    # plt.tricontourf(kx,ky ,d3,annot=True, **kwargs)\n",
    "\n",
    "\n",
    "# fg = sns.FacetGrid(df_one_temp, col='theta',height=3.5, col_wrap=4)\n",
    "# fg.map_dataframe(draw_heatmap, 'T', 'D', 'J', cbar=False, square = True)\n",
    "# # get figure background color\n",
    "mus=np.arange(0,2,0.2)\n",
    "for mm in mus:\n",
    "    draw_heatmap( 'T', 'D', 'mu','.', data=df.loc[(df['mu'] == mm)])\n",
    "    draw_heatmap( 'T', 'MZ', 'J','x', data=df_one)\n",
    "plt.show()"
   ]
  },
  {
   "cell_type": "code",
   "execution_count": 11,
   "metadata": {},
   "outputs": [
    {
     "name": "stdout",
     "output_type": "stream",
     "text": [
      "['musweep_extended_31_6_0.6', 'musweep_extended_31_6_0', 'musweep_extended_31_6_0.8', 'musweep_extended_31_6_1.8', 'musweep_extended_31_6_1.2', 'musweep_extended_31_6_1.6', 'musweep_extended_31_6_0.2', 'musweep_extended_31_6_1', 'musweep_extended_31_6_0.4', 'musweep_extended_31_6_1.4', 'inforun']\n"
     ]
    },
    {
     "data": {
      "image/png": "[encoded data removed]",
      "text/plain": [
       "<Figure size 432x288 with 1 Axes>"
      ]
     },
     "metadata": {
      "needs_background": "light"
     },
     "output_type": "display_data"
    }
   ],
   "source": [
    "\n",
    "\n",
    "\n",
    "        \n",
    "frames=[]\n",
    "\n",
    "path=pathy+'/data/musweep_extended_31_6_2022-07-14-02-07-10'\n",
    "subpaths=os.listdir(path)\n",
    "print(subpaths)\n",
    "subpaths=list(filter(lambda a: a != 'inforun', subpaths))\n",
    "\n",
    "for i, pat in enumerate(subpaths):\n",
    "    # print(pat)\n",
    "    fulpath=path+'/'+pat\n",
    "    subpaths2=os.listdir(fulpath)\n",
    "    data= getdatadir(subpaths2, '')\n",
    "    fullpath=fulpath+'/'+data[0]\n",
    "    \n",
    "    dff = pd.read_hdf(fullpath)\n",
    "    frames.append(dff)\n",
    "\n",
    "\n",
    "\n",
    "# df=pd.concat(frames).sort_values(['theta', 'nu'])\n",
    "df=pd.concat(frames)\n",
    "\n",
    "df_one=df.loc[(df['mu'] == 1.0)]\n",
    "def draw_heatmap(*args, **kwargs):\n",
    "    data = kwargs.pop('data')\n",
    "    d1 = np.array(data.loc[:,args[0]])\n",
    "    d2 = np.array(data.loc[:,args[1]])\n",
    "    d3 = np.array(data.loc[:,args[2]])\n",
    "    plt.scatter(d1,d2, marker=args[3])\n",
    "    # plt.plot(d1,d2, c=d3[0])\n",
    "\n",
    "\n",
    "    # plt.tricontourf(kx,ky ,d3,annot=True, **kwargs)\n",
    "\n",
    "\n",
    "# fg = sns.FacetGrid(df_one_temp, col='theta',height=3.5, col_wrap=4)\n",
    "# fg.map_dataframe(draw_heatmap, 'T', 'D', 'J', cbar=False, square = True)\n",
    "# # get figure background color\n",
    "mus=np.arange(0,2,0.2)\n",
    "for mm in mus:\n",
    "    draw_heatmap( 'T', 'D', 'mu','.', data=df.loc[(df['mu'] == mm)])\n",
    "    draw_heatmap( 'T', 'MZ', 'J','x', data=df_one)\n",
    "plt.show()"
   ]
  },
  {
   "cell_type": "code",
   "execution_count": null,
   "metadata": {},
   "outputs": [],
   "source": []
  }
 ],
 "metadata": {
  "kernelspec": {
   "display_name": "Python 3.8.8 ('base')",
   "language": "python",
   "name": "python3"
  },
  "language_info": {
   "codemirror_mode": {
    "name": "ipython",
    "version": 3
   },
   "file_extension": ".py",
   "mimetype": "text/x-python",
   "name": "python",
   "nbconvert_exporter": "python",
   "pygments_lexer": "ipython3",
   "version": "3.8.8"
  },
  "orig_nbformat": 4,
  "vscode": {
   "interpreter": {
    "hash": "7639067863af19a93af29fcfb635aaf9acd3c79408c60a0e16bc1eebbcf0e31d"
   }
  }
 },
 "nbformat": 4,
 "nbformat_minor": 2
}
