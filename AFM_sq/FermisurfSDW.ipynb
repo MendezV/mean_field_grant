{
 "cells": [
  {
   "cell_type": "code",
   "execution_count": 1,
   "metadata": {},
   "outputs": [
    {
     "name": "stdout",
     "output_type": "stream",
     "text": [
      "Populating the interactive namespace from numpy and matplotlib\n"
     ]
    }
   ],
   "source": [
    "%pylab inline"
   ]
  },
  {
   "cell_type": "code",
   "execution_count": 2,
   "metadata": {},
   "outputs": [],
   "source": [
    "def eps(kx,ky,t1,t2,mu):\n",
    "    return -2*t1*(np.cos(kx)+np.cos(ky))-4*t2*np.cos(kx)*np.cos(ky)-mu\n",
    "\n",
    "\n",
    "\n",
    "def Ehole(kx,ky,t1,t2,S,mu):\n",
    "    e1=eps(kx+np.pi,ky+np.pi,t1,t2,mu)\n",
    "    e2=eps(kx,ky,t1,t2,mu)\n",
    "    \n",
    "    dee=(e1-e2)*(e1-e2)/4.0\n",
    "\n",
    "    \n",
    "    return -sqrt(S*S+dee)+0.5*(e1+e2)\n",
    "\n",
    "def Eele(kx,ky,t1,t2,S,mu):\n",
    "    e1=eps(kx+np.pi,ky+np.pi,t1,t2,mu)\n",
    "    e2=eps(kx,ky,t1,t2,mu)\n",
    "    \n",
    "    dee=(e1-e2)*(e1-e2)/4.0\n",
    "\n",
    "    \n",
    "    return sqrt(S*S+dee)+0.5*(e1+e2)"
   ]
  },
  {
   "cell_type": "code",
   "execution_count": 3,
   "metadata": {},
   "outputs": [],
   "source": [
    "import numpy as np\n",
    "import matplotlib.pyplot as plt\n",
    "\n",
    "#parametric representation of the path\n",
    "Npoints=100\n",
    "t=np.linspace(0, 1, Npoints)\n",
    "\n",
    "#points in 1BZ\n",
    "q1=np.array([0,0])\n",
    "q2=np.array([np.pi,np.pi])\n",
    "q3=np.array([0,np.pi])\n",
    "\n",
    "#three segments of the path in 1BZ\n",
    "lin1=np.dot(mat(t).T,mat(q1))+np.dot(mat(1-t).T,mat(q2))\n",
    "lin2=np.dot(mat(t).T,mat(q2))+np.dot(mat(1-t).T,mat(q3))\n",
    "lin3=np.dot(mat(t).T,mat(q3))+np.dot(mat(1-t).T,mat(q1))\n",
    "\n",
    "#Stacking arrays\n",
    "linp1=np.vstack([lin2,lin1])\n",
    "lin=np.vstack([lin3,linp1])\n",
    "\n",
    "#points in k-space\n",
    "sq_kpoints=500\n",
    "xlist = np.linspace(-np.pi, np.pi, sq_kpoints)\n",
    "ylist = np.linspace(-np.pi, np.pi, sq_kpoints)\n",
    "X, Y = np.meshgrid(xlist, ylist)"
   ]
  },
  {
   "cell_type": "code",
   "execution_count": 4,
   "metadata": {},
   "outputs": [
    {
     "name": "stdout",
     "output_type": "stream",
     "text": [
      "-4.499904872136244 -4.5 -4.500049999687504 -0.07637037101983268\n",
      "3.5 3.499936581162318 0.27999203338831585 3.500049999687504\n",
      "-2.110028983149594\n",
      "1.7118398143338358\n"
     ]
    },
    {
     "ename": "NameError",
     "evalue": "name 'level' is not defined",
     "output_type": "error",
     "traceback": [
      "\u001b[0;31m---------------------------------------------------------------------------\u001b[0m",
      "\u001b[0;31mNameError\u001b[0m                                 Traceback (most recent call last)",
      "\u001b[0;32m/var/folders/s3/40l5x__x3hd75xdyv2tqmfyh0000gn/T/ipykernel_7640/2875532165.py\u001b[0m in \u001b[0;36m<module>\u001b[0;34m\u001b[0m\n\u001b[1;32m     35\u001b[0m \u001b[0;34m\u001b[0m\u001b[0m\n\u001b[1;32m     36\u001b[0m \u001b[0mfig\u001b[0m\u001b[0;34m,\u001b[0m\u001b[0max\u001b[0m\u001b[0;34m=\u001b[0m\u001b[0mplt\u001b[0m\u001b[0;34m.\u001b[0m\u001b[0msubplots\u001b[0m\u001b[0;34m(\u001b[0m\u001b[0;36m1\u001b[0m\u001b[0;34m,\u001b[0m\u001b[0;36m1\u001b[0m\u001b[0;34m)\u001b[0m\u001b[0;34m\u001b[0m\u001b[0;34m\u001b[0m\u001b[0m\n\u001b[0;32m---> 37\u001b[0;31m \u001b[0mcp\u001b[0m \u001b[0;34m=\u001b[0m \u001b[0max\u001b[0m\u001b[0;34m.\u001b[0m\u001b[0mcontour\u001b[0m\u001b[0;34m(\u001b[0m\u001b[0mX\u001b[0m\u001b[0;34m,\u001b[0m \u001b[0mY\u001b[0m\u001b[0;34m,\u001b[0m \u001b[0mZ0\u001b[0m\u001b[0;34m,\u001b[0m\u001b[0mlevels\u001b[0m\u001b[0;34m=\u001b[0m\u001b[0;34m[\u001b[0m\u001b[0mnp\u001b[0m\u001b[0;34m.\u001b[0m\u001b[0mmin\u001b[0m\u001b[0;34m(\u001b[0m\u001b[0mZ0\u001b[0m\u001b[0;34m)\u001b[0m\u001b[0;34m+\u001b[0m\u001b[0mlevel\u001b[0m\u001b[0;34m]\u001b[0m\u001b[0;34m,\u001b[0m\u001b[0mcolors\u001b[0m\u001b[0;34m=\u001b[0m\u001b[0;34m'r'\u001b[0m\u001b[0;34m)\u001b[0m\u001b[0;34m\u001b[0m\u001b[0;34m\u001b[0m\u001b[0m\n\u001b[0m\u001b[1;32m     38\u001b[0m \u001b[0mcp\u001b[0m \u001b[0;34m=\u001b[0m \u001b[0max\u001b[0m\u001b[0;34m.\u001b[0m\u001b[0mcontour\u001b[0m\u001b[0;34m(\u001b[0m\u001b[0mX\u001b[0m\u001b[0;34m,\u001b[0m \u001b[0mY\u001b[0m\u001b[0;34m,\u001b[0m \u001b[0mZ00\u001b[0m\u001b[0;34m,\u001b[0m\u001b[0mlevels\u001b[0m\u001b[0;34m=\u001b[0m\u001b[0;34m[\u001b[0m\u001b[0mnp\u001b[0m\u001b[0;34m.\u001b[0m\u001b[0mmin\u001b[0m\u001b[0;34m(\u001b[0m\u001b[0mZ00\u001b[0m\u001b[0;34m)\u001b[0m\u001b[0;34m+\u001b[0m\u001b[0mlevel\u001b[0m\u001b[0;34m]\u001b[0m\u001b[0;34m,\u001b[0m\u001b[0mcolors\u001b[0m\u001b[0;34m=\u001b[0m\u001b[0;34m'b'\u001b[0m\u001b[0;34m)\u001b[0m\u001b[0;34m\u001b[0m\u001b[0;34m\u001b[0m\u001b[0m\n\u001b[1;32m     39\u001b[0m \u001b[0;31m#cp = ax.contour(X, Y, Z1,levels=[mu],colors='r')\u001b[0m\u001b[0;34m\u001b[0m\u001b[0;34m\u001b[0m\u001b[0m\n",
      "\u001b[0;31mNameError\u001b[0m: name 'level' is not defined"
     ]
    },
    {
     "data": {
      "image/png": "[encoded data removed]",
      "text/plain": [
       "<Figure size 432x288 with 1 Axes>"
      ]
     },
     "metadata": {
      "needs_background": "light"
     },
     "output_type": "display_data"
    }
   ],
   "source": [
    "#dispersion\n",
    "#Z =  (eps(X,Y,1,0,0))\n",
    "#Z = epsp(X,Y,1,0,0,0)\n",
    "\n",
    "#fig,ax=plt.subplots(1,1)\n",
    "#cp = ax.contour(X, Y, Z, levels=[-0.1,0.1])\n",
    "#cp = ax.contourf(X, Y, Z)\n",
    "#fig.colorbar(cp) # Add a colorbar to a plot\n",
    "\n",
    "#plotting the path \n",
    "#plot(lin[:,0],lin[:,1], c='r')\n",
    "\n",
    "#show\n",
    "#plt.show()\n",
    "\n",
    "\n",
    "t1=1\n",
    "t2=0.1\n",
    "S0=0.02\n",
    "mu=0.1\n",
    "\n",
    "#print(epsp(0,0,t1,t2,S0,mu),epsp2(0,0,t1,t2,S0,mu))\n",
    "Z0 =  eps(X,Y,t1,t2,mu)\n",
    "Z00 =  eps(X+np.pi,Y+np.pi,t1,t2,mu)\n",
    "Z1 =  Ehole(X,Y,t1,t2,S0,mu)\n",
    "Z2 =  Eele(X,Y,t1,t2,S0,mu)\n",
    "\n",
    "\n",
    "print(np.min(Z0),np.min(Z00),np.min(Z1),np.min(Z2))\n",
    "print(np.max(Z0),np.max(Z00),np.max(Z1),np.max(Z2))\n",
    "level1=(np.max(Z1)+np.min(Z1))/2\n",
    "print(level1)\n",
    "level2=(np.max(Z2)+np.min(Z2))/2\n",
    "print(level2)\n",
    "\n",
    "fig,ax=plt.subplots(1,1)\n",
    "cp = ax.contour(X, Y, Z0,levels=[np.min(Z0)+level],colors='r')\n",
    "cp = ax.contour(X, Y, Z00,levels=[np.min(Z00)+level],colors='b')\n",
    "#cp = ax.contour(X, Y, Z1,levels=[mu],colors='r')\n",
    "#cp = ax.contour(X, Y, Z2,levels=[mu],colors='b')\n",
    "\n",
    "\n",
    "\n",
    "\n",
    "#show\n",
    "plt.show()"
   ]
  },
  {
   "cell_type": "code",
   "execution_count": 7,
   "metadata": {},
   "outputs": [
    {
     "name": "stdout",
     "output_type": "stream",
     "text": [
      "-4.499904872136244 -4.5 -4.501249804748512 0.0007856523722006986\n",
      "3.5 3.499936581162318 0.19999206480959825 3.501249804748512\n",
      "-2.1506288699694567\n",
      "1.7510177285603563\n"
     ]
    },
    {
     "data": {
      "image/png": "[encoded data removed]",
      "text/plain": [
       "<Figure size 432x288 with 1 Axes>"
      ]
     },
     "metadata": {
      "needs_background": "light"
     },
     "output_type": "display_data"
    }
   ],
   "source": [
    "#dispersion\n",
    "#Z =  (eps(X,Y,1,0,0))\n",
    "#Z = epsp(X,Y,1,0,0,0)\n",
    "\n",
    "#fig,ax=plt.subplots(1,1)\n",
    "#cp = ax.contour(X, Y, Z, levels=[-0.1,0.1])\n",
    "#cp = ax.contourf(X, Y, Z)\n",
    "#fig.colorbar(cp) # Add a colorbar to a plot\n",
    "\n",
    "#plotting the path \n",
    "#plot(lin[:,0],lin[:,1], c='r')\n",
    "\n",
    "#show\n",
    "#plt.show()\n",
    "\n",
    "\n",
    "t1=1\n",
    "t2=0.1\n",
    "S0=0.1\n",
    "mu=0.1\n",
    "\n",
    "#print(epsp(0,0,t1,t2,S0,mu),epsp2(0,0,t1,t2,S0,mu))\n",
    "Z0 =  eps(X,Y,t1,t2,mu)\n",
    "Z00 =  eps(X+np.pi,Y+np.pi,t1,t2,mu)\n",
    "Z1 =  Ehole(X,Y,t1,t2,S0,mu)\n",
    "Z2 =  Eele(X,Y,t1,t2,S0,mu)\n",
    "\n",
    "\n",
    "print(np.min(Z0),np.min(Z00),np.min(Z1),np.min(Z2))\n",
    "print(np.max(Z0),np.max(Z00),np.max(Z1),np.max(Z2))\n",
    "level1=(np.max(Z1)+np.min(Z1))/2\n",
    "print(level1)\n",
    "level2=(np.max(Z2)+np.min(Z2))/2\n",
    "print(level2)\n",
    "\n",
    "fig,ax=plt.subplots(1,1)\n",
    "# cp = ax.contour(X, Y, Z00,levels=[mu],colors='r')\n",
    "# cp = ax.contour(X, Y, Z0,levels=[mu],colors='b')\n",
    "cp = ax.contour(X, Y, Z1,levels=[mu],colors='r')\n",
    "cp = ax.contour(X, Y, Z2,levels=[mu],colors='b')\n",
    "\n",
    "\n",
    "\n",
    "\n",
    "#show\n",
    "plt.show()"
   ]
  },
  {
   "cell_type": "code",
   "execution_count": null,
   "metadata": {},
   "outputs": [],
   "source": []
  }
 ],
 "metadata": {
  "kernelspec": {
   "display_name": "Python 3.9.7 ('base')",
   "language": "python",
   "name": "python3"
  },
  "language_info": {
   "codemirror_mode": {
    "name": "ipython",
    "version": 3
   },
   "file_extension": ".py",
   "mimetype": "text/x-python",
   "name": "python",
   "nbconvert_exporter": "python",
   "pygments_lexer": "ipython3",
   "version": "3.9.7"
  },
  "vscode": {
   "interpreter": {
    "hash": "40d3a090f54c6569ab1632332b64b2c03c39dcf918b08424e98f38b5ae0af88f"
   }
  }
 },
 "nbformat": 4,
 "nbformat_minor": 2
}
